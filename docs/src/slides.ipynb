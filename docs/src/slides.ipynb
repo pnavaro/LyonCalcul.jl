{
 "cells": [
  {
   "cell_type": "markdown",
   "metadata": {
    "slideshow": {
     "slide_type": "fragment"
    }
   },
   "source": [
    "# Who am I ?\n",
    "\n",
    "- My name is *Pierre Navaro*\n",
    "\n",
    "- Ph.D in Computational Aeroacoustics, 1998-2002 (Université du Havre) (Fortran 77+PVM)\n",
    "\n",
    "- Scientific Software Engineer in Strasbourg (2003-2015) (Fortran 90-2003 + OpenMP-MPI)\n",
    "\n",
    "- Moved to Rennes in 2015 (Numpy + Cython, R + Rcpp)\n",
    "\n",
    "- Julia user since July 2018 (Julia v1.0)"
   ]
  },
  {
   "cell_type": "markdown",
   "metadata": {
    "slideshow": {
     "slide_type": "slide"
    }
   },
   "source": [
    "# `bspline` function"
   ]
  },
  {
   "cell_type": "code",
   "execution_count": 7,
   "metadata": {
    "slideshow": {
     "slide_type": "subslide"
    }
   },
   "outputs": [
    {
     "data": {
      "text/plain": [
       "bspline"
      ]
     },
     "execution_count": 7,
     "metadata": {},
     "output_type": "execute_result"
    }
   ],
   "source": [
    "\"\"\"\n",
    "    bspline(p, j, x)\n",
    "\n",
    "Return the value at x in [0,1[ of the B-spline with integer nodes \n",
    "of degree p with support starting at j.\n",
    "Implemented recursively using the \n",
    "[De Boor's Algorithm](https://en.wikipedia.org/wiki/De_Boor%27s_algorithm)\n",
    "\n",
    "```math\n",
    "B_{i,0}(x) := \\\\left\\\\{\n",
    "\\\\begin{matrix}\n",
    "1 & \\\\mathrm{if}  \\\\quad t_i ≤ x < t_{i+1} \\\\\\\\\n",
    "0 & \\\\mathrm{otherwise}\n",
    "\\\\end{matrix}\n",
    "\\\\right.\n",
    "```\n",
    "\n",
    "```math\n",
    "B_{i,p}(x) := \\\\frac{x - t_i}{t_{i+p} - t_i} B_{i,p-1}(x)\n",
    "+ \\\\frac{t_{i+p+1} - x}{t_{i+p+1} - t_{i+1}} B_{i+1,p-1}(x).\n",
    "```\n",
    "\"\"\"\n",
    "function bspline(p::Int, j::Int, x::Float64)\n",
    "   if p == 0\n",
    "       if j == 0\n",
    "           return 1.0\n",
    "       else\n",
    "           return 0.0\n",
    "       end\n",
    "   else\n",
    "       w = (x - j) / p\n",
    "       w1 = (x - j - 1) / p\n",
    "   end\n",
    "   return (w * bspline(p - 1, j, x) \n",
    "           + (1 - w1) * bspline(p - 1, j + 1, x))\n",
    "end"
   ]
  },
  {
   "cell_type": "code",
   "execution_count": 8,
   "metadata": {
    "slideshow": {
     "slide_type": "slide"
    }
   },
   "outputs": [
    {
     "name": "stdout",
     "output_type": "stream",
     "text": [
      "search: \u001b[0m\u001b[1mb\u001b[22m\u001b[0m\u001b[1ms\u001b[22m\u001b[0m\u001b[1mp\u001b[22m\u001b[0m\u001b[1ml\u001b[22m\u001b[0m\u001b[1mi\u001b[22m\u001b[0m\u001b[1mn\u001b[22m\u001b[0m\u001b[1me\u001b[22m\n",
      "\n"
     ]
    },
    {
     "data": {
      "text/latex": [
       "\\begin{verbatim}\n",
       "bspline(p, j, x)\n",
       "\\end{verbatim}\n",
       "Return the value at x in [0,1[ of the B-spline with integer nodes  of degree p with support starting at j. Implemented recursively using the  \\href{https://en.wikipedia.org/wiki/De_Boor%27s_algorithm}{De Boor's Algorithm}\n",
       "\n",
       "$$B_{i,0}(x) := \\left\\{\n",
       "\\begin{matrix}\n",
       "1 & \\mathrm{if}  \\quad t_i ≤ x < t_{i+1} \\\\\n",
       "0 & \\mathrm{otherwise}\n",
       "\\end{matrix}\n",
       "\\right.$$\n",
       "$$B_{i,p}(x) := \\frac{x - t_i}{t_{i+p} - t_i} B_{i,p-1}(x)\n",
       "+ \\frac{t_{i+p+1} - x}{t_{i+p+1} - t_{i+1}} B_{i+1,p-1}(x).$$\n"
      ],
      "text/markdown": [
       "```\n",
       "bspline(p, j, x)\n",
       "```\n",
       "\n",
       "Return the value at x in [0,1[ of the B-spline with integer nodes  of degree p with support starting at j. Implemented recursively using the  [De Boor's Algorithm](https://en.wikipedia.org/wiki/De_Boor%27s_algorithm)\n",
       "\n",
       "$$\n",
       "B_{i,0}(x) := \\left\\{\n",
       "\\begin{matrix}\n",
       "1 & \\mathrm{if}  \\quad t_i ≤ x < t_{i+1} \\\\\n",
       "0 & \\mathrm{otherwise}\n",
       "\\end{matrix}\n",
       "\\right.\n",
       "$$\n",
       "\n",
       "$$\n",
       "B_{i,p}(x) := \\frac{x - t_i}{t_{i+p} - t_i} B_{i,p-1}(x)\n",
       "+ \\frac{t_{i+p+1} - x}{t_{i+p+1} - t_{i+1}} B_{i+1,p-1}(x).\n",
       "$$\n"
      ],
      "text/plain": [
       "\u001b[36m  bspline(p, j, x)\u001b[39m\n",
       "\n",
       "  Return the value at x in [0,1[ of the B-spline with integer nodes of degree\n",
       "  p with support starting at j. Implemented recursively using the De Boor's\n",
       "  Algorithm (https://en.wikipedia.org/wiki/De_Boor%27s_algorithm)\n",
       "\n",
       "\u001b[35mB_{i,0}(x) := \\left\\{\u001b[39m\n",
       "\u001b[35m\\begin{matrix}\u001b[39m\n",
       "\u001b[35m1 & \\mathrm{if}  \\quad t_i ≤ x < t_{i+1} \\\\\u001b[39m\n",
       "\u001b[35m0 & \\mathrm{otherwise}\u001b[39m\n",
       "\u001b[35m\\end{matrix}\u001b[39m\n",
       "\u001b[35m\\right.\u001b[39m\n",
       "\n",
       "\u001b[35mB_{i,p}(x) := \\frac{x - t_i}{t_{i+p} - t_i} B_{i,p-1}(x)\u001b[39m\n",
       "\u001b[35m+ \\frac{t_{i+p+1} - x}{t_{i+p+1} - t_{i+1}} B_{i+1,p-1}(x).\u001b[39m"
      ]
     },
     "execution_count": 8,
     "metadata": {},
     "output_type": "execute_result"
    }
   ],
   "source": [
    "?bspline"
   ]
  },
  {
   "cell_type": "markdown",
   "metadata": {
    "slideshow": {
     "slide_type": "slide"
    }
   },
   "source": [
    "# `Advection` callable struct"
   ]
  },
  {
   "cell_type": "code",
   "execution_count": 9,
   "metadata": {
    "slideshow": {
     "slide_type": "subslide"
    }
   },
   "outputs": [
    {
     "data": {
      "text/plain": [
       "Advection"
      ]
     },
     "execution_count": 9,
     "metadata": {},
     "output_type": "execute_result"
    }
   ],
   "source": [
    "\"\"\"\n",
    "    Advection(n, p, delta)\n",
    "\n",
    "    n :: Number of points.\n",
    "    p :: Spline degree.\n",
    "    delta :: space size step.\n",
    "    \n",
    "\"\"\"\n",
    "mutable struct Advection\n",
    "    n         :: Int64\n",
    "    p         :: Int64\n",
    "    delta     :: Float64\n",
    "    modes     :: Vector{Float64}\n",
    "    eig_bspl  :: Vector{ComplexF64}\n",
    "    eig_alpha :: Vector{ComplexF64}\n",
    "    \n",
    "    function Advection( n, p, delta )\n",
    "        \n",
    "        eig_bspl  = zeros(ComplexF64,n)\n",
    "        eig_alpha = similar(eig_bspl)\n",
    "        modes = 2π * (0:n-1) / n\n",
    "   \n",
    "        eig_bspl .= bspline(p, -div(p+1,2), 0.0)\n",
    "        for j in 1:div(p+1,2)-1\n",
    "            eig_bspl .+= (bspline(p, j-div(p+1,2), 0.0)\n",
    "             * 2 * cos.(j * modes))\n",
    "        end\n",
    "        \n",
    "        new(n, p, delta, modes, eig_bspl, eig_alpha)\n",
    "    end\n",
    "end"
   ]
  },
  {
   "cell_type": "code",
   "execution_count": 10,
   "metadata": {
    "slideshow": {
     "slide_type": "slide"
    }
   },
   "outputs": [
    {
     "data": {
      "text/plain": [
       "Advection"
      ]
     },
     "execution_count": 10,
     "metadata": {},
     "output_type": "execute_result"
    }
   ],
   "source": [
    "using FFTW\n",
    "\n",
    "\"\"\"\n",
    "    advection! = Advection( n, p, delta)\n",
    "    advection!( f, alpha )\n",
    "\n",
    "    Create a function to compute the interpolating spline \n",
    "    of degree p of odd degree of a 1D function f on a periodic \n",
    "    uniform mesh, at all points x after a displacement alpha. \n",
    "    Input f type is Vector{Float64} and is updated inplace.\n",
    "\n",
    "\"\"\"\n",
    "function (adv :: Advection)(f     :: Vector{Float64},\n",
    "                            alpha :: Float64)\n",
    "\n",
    "  \n",
    "   ishift = floor(- alpha / adv.delta)\n",
    "   beta = - ishift - alpha / adv.delta\n",
    "   fill!(adv.eig_alpha, 0.0)\n",
    "   for j in -div(adv.p-1,2):div(adv.p+1,2)\n",
    "      adv.eig_alpha .+= (bspline(adv.p, j-div(adv.p+1,2), beta)\n",
    "         .* exp.((ishift + j) * 1im .* adv.modes))\n",
    "   end\n",
    "\n",
    "   f .= real(ifft(fft(f) .* adv.eig_alpha ./ adv.eig_bspl))\n",
    "\n",
    "end"
   ]
  },
  {
   "cell_type": "code",
   "execution_count": 11,
   "metadata": {
    "slideshow": {
     "slide_type": "slide"
    }
   },
   "outputs": [
    {
     "data": {
      "image/svg+xml": [
       "<?xml version=\"1.0\" encoding=\"utf-8\"?>\n",
       "<svg xmlns=\"http://www.w3.org/2000/svg\" xmlns:xlink=\"http://www.w3.org/1999/xlink\" width=\"600\" height=\"400\" viewBox=\"0 0 2400 1600\">\n",
       "<defs>\n",
       "  <clipPath id=\"clip7900\">\n",
       "    <rect x=\"0\" y=\"0\" width=\"2000\" height=\"2000\"/>\n",
       "  </clipPath>\n",
       "</defs>\n",
       "<defs>\n",
       "  <clipPath id=\"clip7901\">\n",
       "    <rect x=\"0\" y=\"0\" width=\"2400\" height=\"1600\"/>\n",
       "  </clipPath>\n",
       "</defs>\n",
       "<polygon clip-path=\"url(#clip7901)\" points=\"\n",
       "0,1600 2400,1600 2400,0 0,0 \n",
       "  \" fill=\"#ffffff\" fill-rule=\"evenodd\" fill-opacity=\"1\"/>\n",
       "<defs>\n",
       "  <clipPath id=\"clip7902\">\n",
       "    <rect x=\"480\" y=\"0\" width=\"1681\" height=\"1600\"/>\n",
       "  </clipPath>\n",
       "</defs>\n",
       "<polygon clip-path=\"url(#clip7901)\" points=\"\n",
       "189.504,1503.47 2321.26,1503.47 2321.26,47.2441 189.504,47.2441 \n",
       "  \" fill=\"#ffffff\" fill-rule=\"evenodd\" fill-opacity=\"1\"/>\n",
       "<defs>\n",
       "  <clipPath id=\"clip7903\">\n",
       "    <rect x=\"189\" y=\"47\" width=\"2133\" height=\"1457\"/>\n",
       "  </clipPath>\n",
       "</defs>\n",
       "<polyline clip-path=\"url(#clip7903)\" style=\"stroke:#000000; stroke-width:2; stroke-opacity:0.1; fill:none\" points=\"\n",
       "  249.837,1503.47 249.837,47.2441 \n",
       "  \"/>\n",
       "<polyline clip-path=\"url(#clip7903)\" style=\"stroke:#000000; stroke-width:2; stroke-opacity:0.1; fill:none\" points=\"\n",
       "  574.992,1503.47 574.992,47.2441 \n",
       "  \"/>\n",
       "<polyline clip-path=\"url(#clip7903)\" style=\"stroke:#000000; stroke-width:2; stroke-opacity:0.1; fill:none\" points=\"\n",
       "  900.148,1503.47 900.148,47.2441 \n",
       "  \"/>\n",
       "<polyline clip-path=\"url(#clip7903)\" style=\"stroke:#000000; stroke-width:2; stroke-opacity:0.1; fill:none\" points=\"\n",
       "  1225.3,1503.47 1225.3,47.2441 \n",
       "  \"/>\n",
       "<polyline clip-path=\"url(#clip7903)\" style=\"stroke:#000000; stroke-width:2; stroke-opacity:0.1; fill:none\" points=\"\n",
       "  1550.46,1503.47 1550.46,47.2441 \n",
       "  \"/>\n",
       "<polyline clip-path=\"url(#clip7903)\" style=\"stroke:#000000; stroke-width:2; stroke-opacity:0.1; fill:none\" points=\"\n",
       "  1875.61,1503.47 1875.61,47.2441 \n",
       "  \"/>\n",
       "<polyline clip-path=\"url(#clip7903)\" style=\"stroke:#000000; stroke-width:2; stroke-opacity:0.1; fill:none\" points=\"\n",
       "  2200.77,1503.47 2200.77,47.2441 \n",
       "  \"/>\n",
       "<polyline clip-path=\"url(#clip7903)\" style=\"stroke:#000000; stroke-width:2; stroke-opacity:0.1; fill:none\" points=\"\n",
       "  189.504,1462.38 2321.26,1462.38 \n",
       "  \"/>\n",
       "<polyline clip-path=\"url(#clip7903)\" style=\"stroke:#000000; stroke-width:2; stroke-opacity:0.1; fill:none\" points=\"\n",
       "  189.504,1118.87 2321.26,1118.87 \n",
       "  \"/>\n",
       "<polyline clip-path=\"url(#clip7903)\" style=\"stroke:#000000; stroke-width:2; stroke-opacity:0.1; fill:none\" points=\"\n",
       "  189.504,775.359 2321.26,775.359 \n",
       "  \"/>\n",
       "<polyline clip-path=\"url(#clip7903)\" style=\"stroke:#000000; stroke-width:2; stroke-opacity:0.1; fill:none\" points=\"\n",
       "  189.504,431.852 2321.26,431.852 \n",
       "  \"/>\n",
       "<polyline clip-path=\"url(#clip7903)\" style=\"stroke:#000000; stroke-width:2; stroke-opacity:0.1; fill:none\" points=\"\n",
       "  189.504,88.3437 2321.26,88.3437 \n",
       "  \"/>\n",
       "<polyline clip-path=\"url(#clip7901)\" style=\"stroke:#000000; stroke-width:4; stroke-opacity:1; fill:none\" points=\"\n",
       "  189.504,1503.47 2321.26,1503.47 \n",
       "  \"/>\n",
       "<polyline clip-path=\"url(#clip7901)\" style=\"stroke:#000000; stroke-width:4; stroke-opacity:1; fill:none\" points=\"\n",
       "  189.504,1503.47 189.504,47.2441 \n",
       "  \"/>\n",
       "<polyline clip-path=\"url(#clip7901)\" style=\"stroke:#000000; stroke-width:4; stroke-opacity:1; fill:none\" points=\"\n",
       "  249.837,1503.47 249.837,1481.63 \n",
       "  \"/>\n",
       "<polyline clip-path=\"url(#clip7901)\" style=\"stroke:#000000; stroke-width:4; stroke-opacity:1; fill:none\" points=\"\n",
       "  574.992,1503.47 574.992,1481.63 \n",
       "  \"/>\n",
       "<polyline clip-path=\"url(#clip7901)\" style=\"stroke:#000000; stroke-width:4; stroke-opacity:1; fill:none\" points=\"\n",
       "  900.148,1503.47 900.148,1481.63 \n",
       "  \"/>\n",
       "<polyline clip-path=\"url(#clip7901)\" style=\"stroke:#000000; stroke-width:4; stroke-opacity:1; fill:none\" points=\"\n",
       "  1225.3,1503.47 1225.3,1481.63 \n",
       "  \"/>\n",
       "<polyline clip-path=\"url(#clip7901)\" style=\"stroke:#000000; stroke-width:4; stroke-opacity:1; fill:none\" points=\"\n",
       "  1550.46,1503.47 1550.46,1481.63 \n",
       "  \"/>\n",
       "<polyline clip-path=\"url(#clip7901)\" style=\"stroke:#000000; stroke-width:4; stroke-opacity:1; fill:none\" points=\"\n",
       "  1875.61,1503.47 1875.61,1481.63 \n",
       "  \"/>\n",
       "<polyline clip-path=\"url(#clip7901)\" style=\"stroke:#000000; stroke-width:4; stroke-opacity:1; fill:none\" points=\"\n",
       "  2200.77,1503.47 2200.77,1481.63 \n",
       "  \"/>\n",
       "<polyline clip-path=\"url(#clip7901)\" style=\"stroke:#000000; stroke-width:4; stroke-opacity:1; fill:none\" points=\"\n",
       "  189.504,1462.38 221.48,1462.38 \n",
       "  \"/>\n",
       "<polyline clip-path=\"url(#clip7901)\" style=\"stroke:#000000; stroke-width:4; stroke-opacity:1; fill:none\" points=\"\n",
       "  189.504,1118.87 221.48,1118.87 \n",
       "  \"/>\n",
       "<polyline clip-path=\"url(#clip7901)\" style=\"stroke:#000000; stroke-width:4; stroke-opacity:1; fill:none\" points=\"\n",
       "  189.504,775.359 221.48,775.359 \n",
       "  \"/>\n",
       "<polyline clip-path=\"url(#clip7901)\" style=\"stroke:#000000; stroke-width:4; stroke-opacity:1; fill:none\" points=\"\n",
       "  189.504,431.852 221.48,431.852 \n",
       "  \"/>\n",
       "<polyline clip-path=\"url(#clip7901)\" style=\"stroke:#000000; stroke-width:4; stroke-opacity:1; fill:none\" points=\"\n",
       "  189.504,88.3437 221.48,88.3437 \n",
       "  \"/>\n",
       "<g clip-path=\"url(#clip7901)\">\n",
       "<text style=\"fill:#000000; fill-opacity:1; font-family:Arial,Helvetica Neue,Helvetica,sans-serif; font-size:48px; text-anchor:middle;\" transform=\"rotate(0, 249.837, 1557.47)\" x=\"249.837\" y=\"1557.47\">0</text>\n",
       "</g>\n",
       "<g clip-path=\"url(#clip7901)\">\n",
       "<text style=\"fill:#000000; fill-opacity:1; font-family:Arial,Helvetica Neue,Helvetica,sans-serif; font-size:48px; text-anchor:middle;\" transform=\"rotate(0, 574.992, 1557.47)\" x=\"574.992\" y=\"1557.47\">2</text>\n",
       "</g>\n",
       "<g clip-path=\"url(#clip7901)\">\n",
       "<text style=\"fill:#000000; fill-opacity:1; font-family:Arial,Helvetica Neue,Helvetica,sans-serif; font-size:48px; text-anchor:middle;\" transform=\"rotate(0, 900.148, 1557.47)\" x=\"900.148\" y=\"1557.47\">4</text>\n",
       "</g>\n",
       "<g clip-path=\"url(#clip7901)\">\n",
       "<text style=\"fill:#000000; fill-opacity:1; font-family:Arial,Helvetica Neue,Helvetica,sans-serif; font-size:48px; text-anchor:middle;\" transform=\"rotate(0, 1225.3, 1557.47)\" x=\"1225.3\" y=\"1557.47\">6</text>\n",
       "</g>\n",
       "<g clip-path=\"url(#clip7901)\">\n",
       "<text style=\"fill:#000000; fill-opacity:1; font-family:Arial,Helvetica Neue,Helvetica,sans-serif; font-size:48px; text-anchor:middle;\" transform=\"rotate(0, 1550.46, 1557.47)\" x=\"1550.46\" y=\"1557.47\">8</text>\n",
       "</g>\n",
       "<g clip-path=\"url(#clip7901)\">\n",
       "<text style=\"fill:#000000; fill-opacity:1; font-family:Arial,Helvetica Neue,Helvetica,sans-serif; font-size:48px; text-anchor:middle;\" transform=\"rotate(0, 1875.61, 1557.47)\" x=\"1875.61\" y=\"1557.47\">10</text>\n",
       "</g>\n",
       "<g clip-path=\"url(#clip7901)\">\n",
       "<text style=\"fill:#000000; fill-opacity:1; font-family:Arial,Helvetica Neue,Helvetica,sans-serif; font-size:48px; text-anchor:middle;\" transform=\"rotate(0, 2200.77, 1557.47)\" x=\"2200.77\" y=\"1557.47\">12</text>\n",
       "</g>\n",
       "<g clip-path=\"url(#clip7901)\">\n",
       "<text style=\"fill:#000000; fill-opacity:1; font-family:Arial,Helvetica Neue,Helvetica,sans-serif; font-size:48px; text-anchor:end;\" transform=\"rotate(0, 165.504, 1479.88)\" x=\"165.504\" y=\"1479.88\">-1.0</text>\n",
       "</g>\n",
       "<g clip-path=\"url(#clip7901)\">\n",
       "<text style=\"fill:#000000; fill-opacity:1; font-family:Arial,Helvetica Neue,Helvetica,sans-serif; font-size:48px; text-anchor:end;\" transform=\"rotate(0, 165.504, 1136.37)\" x=\"165.504\" y=\"1136.37\">-0.5</text>\n",
       "</g>\n",
       "<g clip-path=\"url(#clip7901)\">\n",
       "<text style=\"fill:#000000; fill-opacity:1; font-family:Arial,Helvetica Neue,Helvetica,sans-serif; font-size:48px; text-anchor:end;\" transform=\"rotate(0, 165.504, 792.859)\" x=\"165.504\" y=\"792.859\">0.0</text>\n",
       "</g>\n",
       "<g clip-path=\"url(#clip7901)\">\n",
       "<text style=\"fill:#000000; fill-opacity:1; font-family:Arial,Helvetica Neue,Helvetica,sans-serif; font-size:48px; text-anchor:end;\" transform=\"rotate(0, 165.504, 449.352)\" x=\"165.504\" y=\"449.352\">0.5</text>\n",
       "</g>\n",
       "<g clip-path=\"url(#clip7901)\">\n",
       "<text style=\"fill:#000000; fill-opacity:1; font-family:Arial,Helvetica Neue,Helvetica,sans-serif; font-size:48px; text-anchor:end;\" transform=\"rotate(0, 165.504, 105.844)\" x=\"165.504\" y=\"105.844\">1.0</text>\n",
       "</g>\n",
       "<polyline clip-path=\"url(#clip7903)\" style=\"stroke:#009af9; stroke-width:4; stroke-opacity:1; fill:none\" points=\"\n",
       "  249.837,1353.46 281.759,1269.94 313.681,1167.41 345.603,1049.81 377.525,921.665 409.447,787.898 441.369,653.65 473.291,524.078 505.213,404.163 537.135,298.513 \n",
       "  569.058,211.188 600.98,145.544 632.902,104.103 664.824,88.4582 696.746,99.2106 728.668,135.947 760.59,197.256 792.512,280.781 824.434,383.312 856.356,500.909 \n",
       "  888.278,629.054 920.2,762.82 952.122,897.069 984.044,1026.64 1015.97,1146.56 1047.89,1252.21 1079.81,1339.53 1111.73,1405.17 1143.65,1446.62 1175.58,1462.26 \n",
       "  1207.5,1451.51 1239.42,1414.77 1271.34,1353.46 1303.27,1269.94 1335.19,1167.41 1367.11,1049.81 1399.03,921.665 1430.95,787.898 1462.88,653.65 1494.8,524.078 \n",
       "  1526.72,404.163 1558.64,298.513 1590.56,211.188 1622.49,145.544 1654.41,104.103 1686.33,88.4582 1718.25,99.2106 1750.17,135.947 1782.1,197.256 1814.02,280.781 \n",
       "  1845.94,383.312 1877.86,500.909 1909.78,629.054 1941.71,762.82 1973.63,897.069 2005.55,1026.64 2037.47,1146.56 2069.39,1252.21 2101.32,1339.53 2133.24,1405.17 \n",
       "  2165.16,1446.62 2197.08,1462.26 2229.01,1451.51 2260.93,1414.77 \n",
       "  \"/>\n",
       "<circle clip-path=\"url(#clip7903)\" style=\"fill:#000000; stroke:none; fill-opacity:1\" cx=\"249.837\" cy=\"1353.46\" r=\"18\"/>\n",
       "<circle clip-path=\"url(#clip7903)\" style=\"fill:#e26f46; stroke:none; fill-opacity:1\" cx=\"249.837\" cy=\"1353.46\" r=\"14\"/>\n",
       "<circle clip-path=\"url(#clip7903)\" style=\"fill:#000000; stroke:none; fill-opacity:1\" cx=\"281.759\" cy=\"1269.94\" r=\"18\"/>\n",
       "<circle clip-path=\"url(#clip7903)\" style=\"fill:#e26f46; stroke:none; fill-opacity:1\" cx=\"281.759\" cy=\"1269.94\" r=\"14\"/>\n",
       "<circle clip-path=\"url(#clip7903)\" style=\"fill:#000000; stroke:none; fill-opacity:1\" cx=\"313.681\" cy=\"1167.41\" r=\"18\"/>\n",
       "<circle clip-path=\"url(#clip7903)\" style=\"fill:#e26f46; stroke:none; fill-opacity:1\" cx=\"313.681\" cy=\"1167.41\" r=\"14\"/>\n",
       "<circle clip-path=\"url(#clip7903)\" style=\"fill:#000000; stroke:none; fill-opacity:1\" cx=\"345.603\" cy=\"1049.81\" r=\"18\"/>\n",
       "<circle clip-path=\"url(#clip7903)\" style=\"fill:#e26f46; stroke:none; fill-opacity:1\" cx=\"345.603\" cy=\"1049.81\" r=\"14\"/>\n",
       "<circle clip-path=\"url(#clip7903)\" style=\"fill:#000000; stroke:none; fill-opacity:1\" cx=\"377.525\" cy=\"921.665\" r=\"18\"/>\n",
       "<circle clip-path=\"url(#clip7903)\" style=\"fill:#e26f46; stroke:none; fill-opacity:1\" cx=\"377.525\" cy=\"921.665\" r=\"14\"/>\n",
       "<circle clip-path=\"url(#clip7903)\" style=\"fill:#000000; stroke:none; fill-opacity:1\" cx=\"409.447\" cy=\"787.898\" r=\"18\"/>\n",
       "<circle clip-path=\"url(#clip7903)\" style=\"fill:#e26f46; stroke:none; fill-opacity:1\" cx=\"409.447\" cy=\"787.898\" r=\"14\"/>\n",
       "<circle clip-path=\"url(#clip7903)\" style=\"fill:#000000; stroke:none; fill-opacity:1\" cx=\"441.369\" cy=\"653.65\" r=\"18\"/>\n",
       "<circle clip-path=\"url(#clip7903)\" style=\"fill:#e26f46; stroke:none; fill-opacity:1\" cx=\"441.369\" cy=\"653.65\" r=\"14\"/>\n",
       "<circle clip-path=\"url(#clip7903)\" style=\"fill:#000000; stroke:none; fill-opacity:1\" cx=\"473.291\" cy=\"524.078\" r=\"18\"/>\n",
       "<circle clip-path=\"url(#clip7903)\" style=\"fill:#e26f46; stroke:none; fill-opacity:1\" cx=\"473.291\" cy=\"524.078\" r=\"14\"/>\n",
       "<circle clip-path=\"url(#clip7903)\" style=\"fill:#000000; stroke:none; fill-opacity:1\" cx=\"505.213\" cy=\"404.163\" r=\"18\"/>\n",
       "<circle clip-path=\"url(#clip7903)\" style=\"fill:#e26f46; stroke:none; fill-opacity:1\" cx=\"505.213\" cy=\"404.163\" r=\"14\"/>\n",
       "<circle clip-path=\"url(#clip7903)\" style=\"fill:#000000; stroke:none; fill-opacity:1\" cx=\"537.135\" cy=\"298.513\" r=\"18\"/>\n",
       "<circle clip-path=\"url(#clip7903)\" style=\"fill:#e26f46; stroke:none; fill-opacity:1\" cx=\"537.135\" cy=\"298.513\" r=\"14\"/>\n",
       "<circle clip-path=\"url(#clip7903)\" style=\"fill:#000000; stroke:none; fill-opacity:1\" cx=\"569.058\" cy=\"211.188\" r=\"18\"/>\n",
       "<circle clip-path=\"url(#clip7903)\" style=\"fill:#e26f46; stroke:none; fill-opacity:1\" cx=\"569.058\" cy=\"211.188\" r=\"14\"/>\n",
       "<circle clip-path=\"url(#clip7903)\" style=\"fill:#000000; stroke:none; fill-opacity:1\" cx=\"600.98\" cy=\"145.544\" r=\"18\"/>\n",
       "<circle clip-path=\"url(#clip7903)\" style=\"fill:#e26f46; stroke:none; fill-opacity:1\" cx=\"600.98\" cy=\"145.544\" r=\"14\"/>\n",
       "<circle clip-path=\"url(#clip7903)\" style=\"fill:#000000; stroke:none; fill-opacity:1\" cx=\"632.902\" cy=\"104.103\" r=\"18\"/>\n",
       "<circle clip-path=\"url(#clip7903)\" style=\"fill:#e26f46; stroke:none; fill-opacity:1\" cx=\"632.902\" cy=\"104.103\" r=\"14\"/>\n",
       "<circle clip-path=\"url(#clip7903)\" style=\"fill:#000000; stroke:none; fill-opacity:1\" cx=\"664.824\" cy=\"88.4582\" r=\"18\"/>\n",
       "<circle clip-path=\"url(#clip7903)\" style=\"fill:#e26f46; stroke:none; fill-opacity:1\" cx=\"664.824\" cy=\"88.4582\" r=\"14\"/>\n",
       "<circle clip-path=\"url(#clip7903)\" style=\"fill:#000000; stroke:none; fill-opacity:1\" cx=\"696.746\" cy=\"99.2106\" r=\"18\"/>\n",
       "<circle clip-path=\"url(#clip7903)\" style=\"fill:#e26f46; stroke:none; fill-opacity:1\" cx=\"696.746\" cy=\"99.2106\" r=\"14\"/>\n",
       "<circle clip-path=\"url(#clip7903)\" style=\"fill:#000000; stroke:none; fill-opacity:1\" cx=\"728.668\" cy=\"135.947\" r=\"18\"/>\n",
       "<circle clip-path=\"url(#clip7903)\" style=\"fill:#e26f46; stroke:none; fill-opacity:1\" cx=\"728.668\" cy=\"135.947\" r=\"14\"/>\n",
       "<circle clip-path=\"url(#clip7903)\" style=\"fill:#000000; stroke:none; fill-opacity:1\" cx=\"760.59\" cy=\"197.256\" r=\"18\"/>\n",
       "<circle clip-path=\"url(#clip7903)\" style=\"fill:#e26f46; stroke:none; fill-opacity:1\" cx=\"760.59\" cy=\"197.256\" r=\"14\"/>\n",
       "<circle clip-path=\"url(#clip7903)\" style=\"fill:#000000; stroke:none; fill-opacity:1\" cx=\"792.512\" cy=\"280.781\" r=\"18\"/>\n",
       "<circle clip-path=\"url(#clip7903)\" style=\"fill:#e26f46; stroke:none; fill-opacity:1\" cx=\"792.512\" cy=\"280.781\" r=\"14\"/>\n",
       "<circle clip-path=\"url(#clip7903)\" style=\"fill:#000000; stroke:none; fill-opacity:1\" cx=\"824.434\" cy=\"383.312\" r=\"18\"/>\n",
       "<circle clip-path=\"url(#clip7903)\" style=\"fill:#e26f46; stroke:none; fill-opacity:1\" cx=\"824.434\" cy=\"383.312\" r=\"14\"/>\n",
       "<circle clip-path=\"url(#clip7903)\" style=\"fill:#000000; stroke:none; fill-opacity:1\" cx=\"856.356\" cy=\"500.909\" r=\"18\"/>\n",
       "<circle clip-path=\"url(#clip7903)\" style=\"fill:#e26f46; stroke:none; fill-opacity:1\" cx=\"856.356\" cy=\"500.909\" r=\"14\"/>\n",
       "<circle clip-path=\"url(#clip7903)\" style=\"fill:#000000; stroke:none; fill-opacity:1\" cx=\"888.278\" cy=\"629.054\" r=\"18\"/>\n",
       "<circle clip-path=\"url(#clip7903)\" style=\"fill:#e26f46; stroke:none; fill-opacity:1\" cx=\"888.278\" cy=\"629.054\" r=\"14\"/>\n",
       "<circle clip-path=\"url(#clip7903)\" style=\"fill:#000000; stroke:none; fill-opacity:1\" cx=\"920.2\" cy=\"762.82\" r=\"18\"/>\n",
       "<circle clip-path=\"url(#clip7903)\" style=\"fill:#e26f46; stroke:none; fill-opacity:1\" cx=\"920.2\" cy=\"762.82\" r=\"14\"/>\n",
       "<circle clip-path=\"url(#clip7903)\" style=\"fill:#000000; stroke:none; fill-opacity:1\" cx=\"952.122\" cy=\"897.069\" r=\"18\"/>\n",
       "<circle clip-path=\"url(#clip7903)\" style=\"fill:#e26f46; stroke:none; fill-opacity:1\" cx=\"952.122\" cy=\"897.069\" r=\"14\"/>\n",
       "<circle clip-path=\"url(#clip7903)\" style=\"fill:#000000; stroke:none; fill-opacity:1\" cx=\"984.044\" cy=\"1026.64\" r=\"18\"/>\n",
       "<circle clip-path=\"url(#clip7903)\" style=\"fill:#e26f46; stroke:none; fill-opacity:1\" cx=\"984.044\" cy=\"1026.64\" r=\"14\"/>\n",
       "<circle clip-path=\"url(#clip7903)\" style=\"fill:#000000; stroke:none; fill-opacity:1\" cx=\"1015.97\" cy=\"1146.56\" r=\"18\"/>\n",
       "<circle clip-path=\"url(#clip7903)\" style=\"fill:#e26f46; stroke:none; fill-opacity:1\" cx=\"1015.97\" cy=\"1146.56\" r=\"14\"/>\n",
       "<circle clip-path=\"url(#clip7903)\" style=\"fill:#000000; stroke:none; fill-opacity:1\" cx=\"1047.89\" cy=\"1252.21\" r=\"18\"/>\n",
       "<circle clip-path=\"url(#clip7903)\" style=\"fill:#e26f46; stroke:none; fill-opacity:1\" cx=\"1047.89\" cy=\"1252.21\" r=\"14\"/>\n",
       "<circle clip-path=\"url(#clip7903)\" style=\"fill:#000000; stroke:none; fill-opacity:1\" cx=\"1079.81\" cy=\"1339.53\" r=\"18\"/>\n",
       "<circle clip-path=\"url(#clip7903)\" style=\"fill:#e26f46; stroke:none; fill-opacity:1\" cx=\"1079.81\" cy=\"1339.53\" r=\"14\"/>\n",
       "<circle clip-path=\"url(#clip7903)\" style=\"fill:#000000; stroke:none; fill-opacity:1\" cx=\"1111.73\" cy=\"1405.17\" r=\"18\"/>\n",
       "<circle clip-path=\"url(#clip7903)\" style=\"fill:#e26f46; stroke:none; fill-opacity:1\" cx=\"1111.73\" cy=\"1405.17\" r=\"14\"/>\n",
       "<circle clip-path=\"url(#clip7903)\" style=\"fill:#000000; stroke:none; fill-opacity:1\" cx=\"1143.65\" cy=\"1446.62\" r=\"18\"/>\n",
       "<circle clip-path=\"url(#clip7903)\" style=\"fill:#e26f46; stroke:none; fill-opacity:1\" cx=\"1143.65\" cy=\"1446.62\" r=\"14\"/>\n",
       "<circle clip-path=\"url(#clip7903)\" style=\"fill:#000000; stroke:none; fill-opacity:1\" cx=\"1175.58\" cy=\"1462.26\" r=\"18\"/>\n",
       "<circle clip-path=\"url(#clip7903)\" style=\"fill:#e26f46; stroke:none; fill-opacity:1\" cx=\"1175.58\" cy=\"1462.26\" r=\"14\"/>\n",
       "<circle clip-path=\"url(#clip7903)\" style=\"fill:#000000; stroke:none; fill-opacity:1\" cx=\"1207.5\" cy=\"1451.51\" r=\"18\"/>\n",
       "<circle clip-path=\"url(#clip7903)\" style=\"fill:#e26f46; stroke:none; fill-opacity:1\" cx=\"1207.5\" cy=\"1451.51\" r=\"14\"/>\n",
       "<circle clip-path=\"url(#clip7903)\" style=\"fill:#000000; stroke:none; fill-opacity:1\" cx=\"1239.42\" cy=\"1414.77\" r=\"18\"/>\n",
       "<circle clip-path=\"url(#clip7903)\" style=\"fill:#e26f46; stroke:none; fill-opacity:1\" cx=\"1239.42\" cy=\"1414.77\" r=\"14\"/>\n",
       "<circle clip-path=\"url(#clip7903)\" style=\"fill:#000000; stroke:none; fill-opacity:1\" cx=\"1271.34\" cy=\"1353.46\" r=\"18\"/>\n",
       "<circle clip-path=\"url(#clip7903)\" style=\"fill:#e26f46; stroke:none; fill-opacity:1\" cx=\"1271.34\" cy=\"1353.46\" r=\"14\"/>\n",
       "<circle clip-path=\"url(#clip7903)\" style=\"fill:#000000; stroke:none; fill-opacity:1\" cx=\"1303.27\" cy=\"1269.94\" r=\"18\"/>\n",
       "<circle clip-path=\"url(#clip7903)\" style=\"fill:#e26f46; stroke:none; fill-opacity:1\" cx=\"1303.27\" cy=\"1269.94\" r=\"14\"/>\n",
       "<circle clip-path=\"url(#clip7903)\" style=\"fill:#000000; stroke:none; fill-opacity:1\" cx=\"1335.19\" cy=\"1167.41\" r=\"18\"/>\n",
       "<circle clip-path=\"url(#clip7903)\" style=\"fill:#e26f46; stroke:none; fill-opacity:1\" cx=\"1335.19\" cy=\"1167.41\" r=\"14\"/>\n",
       "<circle clip-path=\"url(#clip7903)\" style=\"fill:#000000; stroke:none; fill-opacity:1\" cx=\"1367.11\" cy=\"1049.81\" r=\"18\"/>\n",
       "<circle clip-path=\"url(#clip7903)\" style=\"fill:#e26f46; stroke:none; fill-opacity:1\" cx=\"1367.11\" cy=\"1049.81\" r=\"14\"/>\n",
       "<circle clip-path=\"url(#clip7903)\" style=\"fill:#000000; stroke:none; fill-opacity:1\" cx=\"1399.03\" cy=\"921.665\" r=\"18\"/>\n",
       "<circle clip-path=\"url(#clip7903)\" style=\"fill:#e26f46; stroke:none; fill-opacity:1\" cx=\"1399.03\" cy=\"921.665\" r=\"14\"/>\n",
       "<circle clip-path=\"url(#clip7903)\" style=\"fill:#000000; stroke:none; fill-opacity:1\" cx=\"1430.95\" cy=\"787.898\" r=\"18\"/>\n",
       "<circle clip-path=\"url(#clip7903)\" style=\"fill:#e26f46; stroke:none; fill-opacity:1\" cx=\"1430.95\" cy=\"787.898\" r=\"14\"/>\n",
       "<circle clip-path=\"url(#clip7903)\" style=\"fill:#000000; stroke:none; fill-opacity:1\" cx=\"1462.88\" cy=\"653.65\" r=\"18\"/>\n",
       "<circle clip-path=\"url(#clip7903)\" style=\"fill:#e26f46; stroke:none; fill-opacity:1\" cx=\"1462.88\" cy=\"653.65\" r=\"14\"/>\n",
       "<circle clip-path=\"url(#clip7903)\" style=\"fill:#000000; stroke:none; fill-opacity:1\" cx=\"1494.8\" cy=\"524.078\" r=\"18\"/>\n",
       "<circle clip-path=\"url(#clip7903)\" style=\"fill:#e26f46; stroke:none; fill-opacity:1\" cx=\"1494.8\" cy=\"524.078\" r=\"14\"/>\n",
       "<circle clip-path=\"url(#clip7903)\" style=\"fill:#000000; stroke:none; fill-opacity:1\" cx=\"1526.72\" cy=\"404.163\" r=\"18\"/>\n",
       "<circle clip-path=\"url(#clip7903)\" style=\"fill:#e26f46; stroke:none; fill-opacity:1\" cx=\"1526.72\" cy=\"404.163\" r=\"14\"/>\n",
       "<circle clip-path=\"url(#clip7903)\" style=\"fill:#000000; stroke:none; fill-opacity:1\" cx=\"1558.64\" cy=\"298.513\" r=\"18\"/>\n",
       "<circle clip-path=\"url(#clip7903)\" style=\"fill:#e26f46; stroke:none; fill-opacity:1\" cx=\"1558.64\" cy=\"298.513\" r=\"14\"/>\n",
       "<circle clip-path=\"url(#clip7903)\" style=\"fill:#000000; stroke:none; fill-opacity:1\" cx=\"1590.56\" cy=\"211.188\" r=\"18\"/>\n",
       "<circle clip-path=\"url(#clip7903)\" style=\"fill:#e26f46; stroke:none; fill-opacity:1\" cx=\"1590.56\" cy=\"211.188\" r=\"14\"/>\n",
       "<circle clip-path=\"url(#clip7903)\" style=\"fill:#000000; stroke:none; fill-opacity:1\" cx=\"1622.49\" cy=\"145.544\" r=\"18\"/>\n",
       "<circle clip-path=\"url(#clip7903)\" style=\"fill:#e26f46; stroke:none; fill-opacity:1\" cx=\"1622.49\" cy=\"145.544\" r=\"14\"/>\n",
       "<circle clip-path=\"url(#clip7903)\" style=\"fill:#000000; stroke:none; fill-opacity:1\" cx=\"1654.41\" cy=\"104.103\" r=\"18\"/>\n",
       "<circle clip-path=\"url(#clip7903)\" style=\"fill:#e26f46; stroke:none; fill-opacity:1\" cx=\"1654.41\" cy=\"104.103\" r=\"14\"/>\n",
       "<circle clip-path=\"url(#clip7903)\" style=\"fill:#000000; stroke:none; fill-opacity:1\" cx=\"1686.33\" cy=\"88.4582\" r=\"18\"/>\n",
       "<circle clip-path=\"url(#clip7903)\" style=\"fill:#e26f46; stroke:none; fill-opacity:1\" cx=\"1686.33\" cy=\"88.4582\" r=\"14\"/>\n",
       "<circle clip-path=\"url(#clip7903)\" style=\"fill:#000000; stroke:none; fill-opacity:1\" cx=\"1718.25\" cy=\"99.2106\" r=\"18\"/>\n",
       "<circle clip-path=\"url(#clip7903)\" style=\"fill:#e26f46; stroke:none; fill-opacity:1\" cx=\"1718.25\" cy=\"99.2106\" r=\"14\"/>\n",
       "<circle clip-path=\"url(#clip7903)\" style=\"fill:#000000; stroke:none; fill-opacity:1\" cx=\"1750.17\" cy=\"135.947\" r=\"18\"/>\n",
       "<circle clip-path=\"url(#clip7903)\" style=\"fill:#e26f46; stroke:none; fill-opacity:1\" cx=\"1750.17\" cy=\"135.947\" r=\"14\"/>\n",
       "<circle clip-path=\"url(#clip7903)\" style=\"fill:#000000; stroke:none; fill-opacity:1\" cx=\"1782.1\" cy=\"197.256\" r=\"18\"/>\n",
       "<circle clip-path=\"url(#clip7903)\" style=\"fill:#e26f46; stroke:none; fill-opacity:1\" cx=\"1782.1\" cy=\"197.256\" r=\"14\"/>\n",
       "<circle clip-path=\"url(#clip7903)\" style=\"fill:#000000; stroke:none; fill-opacity:1\" cx=\"1814.02\" cy=\"280.781\" r=\"18\"/>\n",
       "<circle clip-path=\"url(#clip7903)\" style=\"fill:#e26f46; stroke:none; fill-opacity:1\" cx=\"1814.02\" cy=\"280.781\" r=\"14\"/>\n",
       "<circle clip-path=\"url(#clip7903)\" style=\"fill:#000000; stroke:none; fill-opacity:1\" cx=\"1845.94\" cy=\"383.312\" r=\"18\"/>\n",
       "<circle clip-path=\"url(#clip7903)\" style=\"fill:#e26f46; stroke:none; fill-opacity:1\" cx=\"1845.94\" cy=\"383.312\" r=\"14\"/>\n",
       "<circle clip-path=\"url(#clip7903)\" style=\"fill:#000000; stroke:none; fill-opacity:1\" cx=\"1877.86\" cy=\"500.909\" r=\"18\"/>\n",
       "<circle clip-path=\"url(#clip7903)\" style=\"fill:#e26f46; stroke:none; fill-opacity:1\" cx=\"1877.86\" cy=\"500.909\" r=\"14\"/>\n",
       "<circle clip-path=\"url(#clip7903)\" style=\"fill:#000000; stroke:none; fill-opacity:1\" cx=\"1909.78\" cy=\"629.054\" r=\"18\"/>\n",
       "<circle clip-path=\"url(#clip7903)\" style=\"fill:#e26f46; stroke:none; fill-opacity:1\" cx=\"1909.78\" cy=\"629.054\" r=\"14\"/>\n",
       "<circle clip-path=\"url(#clip7903)\" style=\"fill:#000000; stroke:none; fill-opacity:1\" cx=\"1941.71\" cy=\"762.82\" r=\"18\"/>\n",
       "<circle clip-path=\"url(#clip7903)\" style=\"fill:#e26f46; stroke:none; fill-opacity:1\" cx=\"1941.71\" cy=\"762.82\" r=\"14\"/>\n",
       "<circle clip-path=\"url(#clip7903)\" style=\"fill:#000000; stroke:none; fill-opacity:1\" cx=\"1973.63\" cy=\"897.069\" r=\"18\"/>\n",
       "<circle clip-path=\"url(#clip7903)\" style=\"fill:#e26f46; stroke:none; fill-opacity:1\" cx=\"1973.63\" cy=\"897.069\" r=\"14\"/>\n",
       "<circle clip-path=\"url(#clip7903)\" style=\"fill:#000000; stroke:none; fill-opacity:1\" cx=\"2005.55\" cy=\"1026.64\" r=\"18\"/>\n",
       "<circle clip-path=\"url(#clip7903)\" style=\"fill:#e26f46; stroke:none; fill-opacity:1\" cx=\"2005.55\" cy=\"1026.64\" r=\"14\"/>\n",
       "<circle clip-path=\"url(#clip7903)\" style=\"fill:#000000; stroke:none; fill-opacity:1\" cx=\"2037.47\" cy=\"1146.56\" r=\"18\"/>\n",
       "<circle clip-path=\"url(#clip7903)\" style=\"fill:#e26f46; stroke:none; fill-opacity:1\" cx=\"2037.47\" cy=\"1146.56\" r=\"14\"/>\n",
       "<circle clip-path=\"url(#clip7903)\" style=\"fill:#000000; stroke:none; fill-opacity:1\" cx=\"2069.39\" cy=\"1252.21\" r=\"18\"/>\n",
       "<circle clip-path=\"url(#clip7903)\" style=\"fill:#e26f46; stroke:none; fill-opacity:1\" cx=\"2069.39\" cy=\"1252.21\" r=\"14\"/>\n",
       "<circle clip-path=\"url(#clip7903)\" style=\"fill:#000000; stroke:none; fill-opacity:1\" cx=\"2101.32\" cy=\"1339.53\" r=\"18\"/>\n",
       "<circle clip-path=\"url(#clip7903)\" style=\"fill:#e26f46; stroke:none; fill-opacity:1\" cx=\"2101.32\" cy=\"1339.53\" r=\"14\"/>\n",
       "<circle clip-path=\"url(#clip7903)\" style=\"fill:#000000; stroke:none; fill-opacity:1\" cx=\"2133.24\" cy=\"1405.17\" r=\"18\"/>\n",
       "<circle clip-path=\"url(#clip7903)\" style=\"fill:#e26f46; stroke:none; fill-opacity:1\" cx=\"2133.24\" cy=\"1405.17\" r=\"14\"/>\n",
       "<circle clip-path=\"url(#clip7903)\" style=\"fill:#000000; stroke:none; fill-opacity:1\" cx=\"2165.16\" cy=\"1446.62\" r=\"18\"/>\n",
       "<circle clip-path=\"url(#clip7903)\" style=\"fill:#e26f46; stroke:none; fill-opacity:1\" cx=\"2165.16\" cy=\"1446.62\" r=\"14\"/>\n",
       "<circle clip-path=\"url(#clip7903)\" style=\"fill:#000000; stroke:none; fill-opacity:1\" cx=\"2197.08\" cy=\"1462.26\" r=\"18\"/>\n",
       "<circle clip-path=\"url(#clip7903)\" style=\"fill:#e26f46; stroke:none; fill-opacity:1\" cx=\"2197.08\" cy=\"1462.26\" r=\"14\"/>\n",
       "<circle clip-path=\"url(#clip7903)\" style=\"fill:#000000; stroke:none; fill-opacity:1\" cx=\"2229.01\" cy=\"1451.51\" r=\"18\"/>\n",
       "<circle clip-path=\"url(#clip7903)\" style=\"fill:#e26f46; stroke:none; fill-opacity:1\" cx=\"2229.01\" cy=\"1451.51\" r=\"14\"/>\n",
       "<circle clip-path=\"url(#clip7903)\" style=\"fill:#000000; stroke:none; fill-opacity:1\" cx=\"2260.93\" cy=\"1414.77\" r=\"18\"/>\n",
       "<circle clip-path=\"url(#clip7903)\" style=\"fill:#e26f46; stroke:none; fill-opacity:1\" cx=\"2260.93\" cy=\"1414.77\" r=\"14\"/>\n",
       "<polygon clip-path=\"url(#clip7901)\" points=\"\n",
       "1797.9,312.204 2249.26,312.204 2249.26,130.764 1797.9,130.764 \n",
       "  \" fill=\"#ffffff\" fill-rule=\"evenodd\" fill-opacity=\"1\"/>\n",
       "<polyline clip-path=\"url(#clip7901)\" style=\"stroke:#000000; stroke-width:4; stroke-opacity:1; fill:none\" points=\"\n",
       "  1797.9,312.204 2249.26,312.204 2249.26,130.764 1797.9,130.764 1797.9,312.204 \n",
       "  \"/>\n",
       "<polyline clip-path=\"url(#clip7901)\" style=\"stroke:#009af9; stroke-width:4; stroke-opacity:1; fill:none\" points=\"\n",
       "  1821.9,191.244 1965.9,191.244 \n",
       "  \"/>\n",
       "<g clip-path=\"url(#clip7901)\">\n",
       "<text style=\"fill:#000000; fill-opacity:1; font-family:Arial,Helvetica Neue,Helvetica,sans-serif; font-size:48px; text-anchor:start;\" transform=\"rotate(0, 1989.9, 208.744)\" x=\"1989.9\" y=\"208.744\">reference</text>\n",
       "</g>\n",
       "<circle clip-path=\"url(#clip7901)\" style=\"fill:#000000; stroke:none; fill-opacity:1\" cx=\"1905.9\" cy=\"251.724\" r=\"25\"/>\n",
       "<circle clip-path=\"url(#clip7901)\" style=\"fill:#e26f46; stroke:none; fill-opacity:1\" cx=\"1905.9\" cy=\"251.724\" r=\"21\"/>\n",
       "<g clip-path=\"url(#clip7901)\">\n",
       "<text style=\"fill:#000000; fill-opacity:1; font-family:Arial,Helvetica Neue,Helvetica,sans-serif; font-size:48px; text-anchor:start;\" transform=\"rotate(0, 1989.9, 269.224)\" x=\"1989.9\" y=\"269.224\">computed</text>\n",
       "</g>\n",
       "</svg>\n"
      ]
     },
     "execution_count": 11,
     "metadata": {},
     "output_type": "execute_result"
    }
   ],
   "source": [
    "using Plots\n",
    "xmin, xmax, nx = 0, 4π, 64  # set-up the 1d mesh\n",
    "dx = (xmax - xmin) / nx\n",
    "x = range(xmin, stop=xmax, length=nx+1)[1:end-1] |> collect\n",
    "\n",
    "f = sin.(x) # initialize the function f(x)\n",
    "advection! = Advection(nx, 5, dx) # Create the advection function\n",
    "advection!(f, 1.0) # advect the function f with a displacement α = 1.0\n",
    "f_ref = sin.(x.-1) # compute the analytical solution\n",
    "plot(x, f_ref, label=:reference)\n",
    "scatter!(x, f, label=:computed)\n"
   ]
  },
  {
   "cell_type": "markdown",
   "metadata": {
    "slideshow": {
     "slide_type": "slide"
    }
   },
   "source": [
    "# Why make a package ?\n",
    "\n",
    "- Share your code and maintain it.\n",
    "- Better source files organization.\n",
    "- Improve your programming practices (tests and documentation).\n",
    "- Continuous integration (Github+Travis-CI).\n",
    "- Documentation is hosted and generated after every changes."
   ]
  },
  {
   "cell_type": "markdown",
   "metadata": {
    "slideshow": {
     "slide_type": "slide"
    }
   },
   "source": [
    "# Configure git\n",
    "\n",
    "```bash\n",
    "git config --global user.name \"Pierre Navaro\"\n",
    "git config --global user.email \"pierre.navaro@math.cnrs.fr\"\n",
    "git config --global github.user \"pnavaro\"\n",
    "```"
   ]
  },
  {
   "cell_type": "markdown",
   "metadata": {
    "slideshow": {
     "slide_type": "slide"
    }
   },
   "source": [
    "# Create the Julia package LyonCalcul\n",
    "\n",
    "```julia\n",
    "(v1.0) pkg> generate LyonCalcul\n",
    "Generating project LyonCalcul:\n",
    "    LyonCalcul/Project.toml\n",
    "    LyonCalcul/src/LyonCalcul.jl\n",
    "```"
   ]
  },
  {
   "cell_type": "markdown",
   "metadata": {
    "slideshow": {
     "slide_type": "slide"
    }
   },
   "source": [
    "```julia\n",
    "shell> cat LyonCalcul/Project.toml\n",
    "authors = [\"Pierre Navaro <pierre.navaro@math.cnrs.fr>\"]\n",
    "name = \"LyonCalcul\"\n",
    "uuid = \"417a5b38-18da-11e9-35ce-9bdc85ad86c9\"\n",
    "version = \"0.1.0\"\n",
    "\n",
    "[deps]\n",
    "```"
   ]
  },
  {
   "cell_type": "markdown",
   "metadata": {
    "slideshow": {
     "slide_type": "slide"
    }
   },
   "source": [
    "```julia\n",
    "shell> cat LyonCalcul/src/LyonCalcul.jl\n",
    "module LyonCalcul\n",
    "\n",
    "greet() = print(\"Hello World!\")\n",
    "\n",
    "end # module\n",
    "```"
   ]
  },
  {
   "cell_type": "markdown",
   "metadata": {
    "slideshow": {
     "slide_type": "slide"
    }
   },
   "source": [
    "```julia\n",
    "module LyonCalcul\n",
    "\n",
    "export Advection\n",
    "\n",
    "include(\"bspline.jl\")\n",
    "include(\"advection.jl\")\n",
    "\n",
    "end # module\n",
    "```"
   ]
  },
  {
   "cell_type": "markdown",
   "metadata": {
    "slideshow": {
     "slide_type": "slide"
    }
   },
   "source": [
    "# Activate your package"
   ]
  },
  {
   "cell_type": "markdown",
   "metadata": {
    "slideshow": {
     "slide_type": "slide"
    }
   },
   "source": [
    "```julia\n",
    "(v1.0) pkg> activate LyonCalcul\n",
    "\n",
    "(LyonCalcul) pkg> instantiate\n",
    "  Updating registry at `~/.julia/registries/General`\n",
    "  Updating git-repo `https://github.com/JuliaRegistries/General.git`\n",
    " Resolving package versions...\n",
    "  Updating `~/JuliaProjects/LyonCalcul/Project.toml`\n",
    " [no changes]\n",
    "```"
   ]
  },
  {
   "cell_type": "markdown",
   "metadata": {
    "slideshow": {
     "slide_type": "slide"
    }
   },
   "source": [
    "# Add dependencies\n",
    "```julia\n",
    "(LyonCalcul) pkg> add FFTW\n",
    " Resolving package versions...\n",
    "  Updating `~/JuliaProjects/LyonCalcul/Project.toml`\n",
    "  [7a1cc6ca] + FFTW v0.2.4\n",
    "  Updating `~/JuliaProjects/LyonCalcul/Manifest.toml`\n",
    "  [621f4979] + AbstractFFTs v0.3.2\n",
    "  [b99e7846] + BinaryProvider v0.5.3\n",
    "  [34da2185] + Compat v1.4.0\n",
    "  [8f4d0f93] + Conda v1.1.1\n",
    "  ...\n",
    "```"
   ]
  },
  {
   "cell_type": "markdown",
   "metadata": {
    "slideshow": {
     "slide_type": "slide"
    }
   },
   "source": [
    "\" The Manifest.toml allows someone to replicate the exact version of the dependencies that was recorded in the manifest on e.g. another machine. For a package that is to be used as a library, this is not useful.\n",
    "\n",
    "However, for an “application”, i.e. something at “top level” (say your julia code to do the simulations in a scientific paper) then it is likely useful to be able to replicate that exact state and the Manifest is thus useful to check in.\"\n",
    "\n",
    "\n",
    "*Kristoffer Carlsson* (Julia Computing)"
   ]
  },
  {
   "cell_type": "markdown",
   "metadata": {
    "slideshow": {
     "slide_type": "slide"
    }
   },
   "source": [
    "# Check the documentation"
   ]
  },
  {
   "cell_type": "markdown",
   "metadata": {
    "slideshow": {
     "slide_type": "slide"
    }
   },
   "source": [
    "```julia\n",
    "\n",
    "julia> using LyonCalcul\n",
    "\n",
    "help?> Advection\n",
    "search: Advection\n",
    "\n",
    "  Advection(n, p, delta)\n",
    "  \n",
    "  n :: Number of points.\n",
    "  p :: Spline degree.\n",
    "  delta :: space size step.\n",
    "\n",
    "  ───────────────────────────────────────────────────────────────────────────────────────\n",
    "\n",
    "  advection! = Advection( n, p, delta)\n",
    "  advection!( f, alpha )\n",
    "  \n",
    "  Create a function to compute the interpolating spline \n",
    "  of degree p of odd\n",
    "  degree of a 1D function f on a periodic uniform mesh, at\n",
    "  all points x after a displacement alpha. \n",
    "  Input f type is Vector{Float64} and is updated inplace.\n",
    "```"
   ]
  },
  {
   "cell_type": "markdown",
   "metadata": {
    "slideshow": {
     "slide_type": "slide"
    }
   },
   "source": [
    "# Add a test\n",
    "\n",
    "```bash\n",
    "cd LyonCalcul\n",
    "mkdir test\n",
    "```\n",
    "\n",
    "add file runtests.jl"
   ]
  },
  {
   "cell_type": "markdown",
   "metadata": {
    "slideshow": {
     "slide_type": "slide"
    }
   },
   "source": [
    "```julia\n",
    "shell> cat test/runtests.jl\n",
    "using Test\n",
    "using LyonCalcul\n",
    "\n",
    "@testset \"Test advection sinus function\" begin\n",
    "\n",
    "     xmin, xmax, nx = 0.0, 2π, 128\n",
    "     dx = (xmax - xmin) / nx\n",
    "     x = range(xmin, stop=xmax, length=nx+1)[1:end-1] |> collect\n",
    "     f = sin.(x)\n",
    "     advection! = Advection( nx, 5, dx )\n",
    "     advection!( f, 0.5)\n",
    "     @test maximum(abs.(f .- sin.(x .- 0.5))) ≈ 0.0 atol = 1e-12\n",
    "\n",
    "end\n",
    "```"
   ]
  },
  {
   "cell_type": "markdown",
   "metadata": {
    "slideshow": {
     "slide_type": "slide"
    }
   },
   "source": [
    "## Verify the test\n",
    "\n",
    "```julia\n",
    "(LyonCalcul) pkg> test\n",
    "   Testing LyonCalcul\n",
    " Resolving package versions...\n",
    "Test Summary:             | Pass  Total\n",
    "Test advection sinus function |    1      1\n",
    "   Testing LyonCalcul tests passed\n",
    "```"
   ]
  },
  {
   "cell_type": "markdown",
   "metadata": {
    "slideshow": {
     "slide_type": "slide"
    }
   },
   "source": [
    "## Documentation\n",
    "\n",
    "https://github.com/JuliaDocs/Documenter.jl"
   ]
  },
  {
   "cell_type": "markdown",
   "metadata": {
    "slideshow": {
     "slide_type": "slide"
    }
   },
   "source": [
    "```julia\n",
    "julia> using DocumenterTools\n",
    "shell> pwd\n",
    "/Users/navaro/JuliaProjects/LyonCalcul\n",
    "julia> DocumenterTools.generate(\"docs\")\n",
    "[ Info: name of package automatically determined to be `LyonCalcul`.\n",
    "[ Info: deploying documentation to `~/JuliaProjects/LyonCalcul/docs`\n",
    "[ Info: Generating .gitignore at /Users/navaro/JuliaProjects/LyonCalcul/docs/.gitignore\n",
    "[ Info: Generating make.jl at /Users/navaro/JuliaProjects/LyonCalcul/docs/make.jl\n",
    "[ Info: Generating Project.toml at /Users/navaro/JuliaProjects/LyonCalcul/docs/Project.toml\n",
    "[ Info: Generating src/index.md at /Users/navaro/JuliaProjects/LyonCalcul/docs/src/index.md\n",
    "```"
   ]
  },
  {
   "cell_type": "markdown",
   "metadata": {
    "slideshow": {
     "slide_type": "subslide"
    }
   },
   "source": [
    "```julia\n",
    "shell> cat docs/src/index.md\n",
    "# LyonCalcul.jl\n",
    "\n",
    "Documentation for LyonCalcul.jl\n",
    "\n",
    "## Types and Functions\n",
    "```\n",
    "\n",
    "````   \n",
    "```@autodocs\n",
    "Modules = [LyonCalcul]\n",
    "Order   = [:type, :function]\n",
    "```\n",
    "````\n"
   ]
  },
  {
   "cell_type": "markdown",
   "metadata": {
    "slideshow": {
     "slide_type": "slide"
    }
   },
   "source": [
    "\n",
    "\n",
    "```julia\n",
    "shell> cat docs/make.jl\n",
    "\n",
    "using Documenter\n",
    "using LyonCalcul\n",
    "\n",
    "makedocs(modules=[LyonCalcul],\n",
    "         doctest = false,\n",
    "         format = Documenter.HTML(),\n",
    "         sitename = \"LyonCalcul.jl\",\n",
    "         pages = [\"Documentation\"    => \"index.md\"])\n",
    "\n",
    "deploydocs(\n",
    "    deps   = Deps.pip(\"mkdocs\", \"python-markdown-math\"),\n",
    "    repo   = \"github.com/pnavaro/LyonCalcul.jl.git\",\n",
    " )\n",
    "```"
   ]
  },
  {
   "cell_type": "markdown",
   "metadata": {
    "slideshow": {
     "slide_type": "slide"
    }
   },
   "source": [
    "# Add a repository on Github\n",
    "\n",
    "https://github.com/pnavaro/LyonCalcul.jl\n",
    "\n",
    "- Note : the repository name has the \".jl\" extension"
   ]
  },
  {
   "cell_type": "markdown",
   "metadata": {
    "slideshow": {
     "slide_type": "slide"
    }
   },
   "source": [
    "```bash\n",
    "$ echo \"# LyonCalcul.jl\" >> README.md\n",
    "$ git init\n",
    "Initialized empty Git repository in /Users/navaro/JuliaProjects/LyonCalcul/.git/\n",
    "$ git add .\n",
    "```"
   ]
  },
  {
   "cell_type": "markdown",
   "metadata": {
    "slideshow": {
     "slide_type": "slide"
    }
   },
   "source": [
    "```bash\n",
    "$ git commit -m \"first commit\"\n",
    "[master (root-commit) 8863c2e] first commit\n",
    " 11 files changed, 287 insertions(+)\n",
    " create mode 100644 Manifest.toml\n",
    " create mode 100644 Project.toml\n",
    " create mode 100644 README.md\n",
    " create mode 100644 docs/.gitignore\n",
    " create mode 100644 docs/Project.toml\n",
    " create mode 100644 docs/make.jl\n",
    " create mode 100644 docs/src/index.md\n",
    " create mode 100644 src/LyonCalcul.jl\n",
    " create mode 100644 src/advection.jl\n",
    " create mode 100644 src/bspline.jl\n",
    " create mode 100644 test/runtests.jl\n",
    "```"
   ]
  },
  {
   "cell_type": "markdown",
   "metadata": {
    "slideshow": {
     "slide_type": "slide"
    }
   },
   "source": [
    "```bash\n",
    "$ git remote add origin git@github.com:pnavaro/LyonCalcul.jl.git\n",
    "$ git push -u origin master\n",
    "Enumerating objects: 17, done.\n",
    "Counting objects: 100% (17/17), done.\n",
    "Delta compression using up to 8 threads\n",
    "Compressing objects: 100% (13/13), done.\n",
    "Writing objects: 100% (17/17), 4.29 KiB | 2.15 MiB/s, done.\n",
    "Total 17 (delta 0), reused 0 (delta 0)\n",
    "To github.com:pnavaro/LyonCalcul.jl.git\n",
    " * [new branch]      master -> master\n",
    "Branch 'master' set up to track remote branch 'master' from 'origin'.\n",
    "```"
   ]
  },
  {
   "cell_type": "markdown",
   "metadata": {
    "slideshow": {
     "slide_type": "slide"
    }
   },
   "source": [
    "### Ignore some files\n",
    "\n",
    "```\n",
    "$ cat .gitignore\n",
    "*.jl.cov\n",
    "*.jl.*.cov\n",
    "*.jl.mem\n",
    "docs/build/\n",
    "docs/site/\n",
    "Manifest.toml\n",
    "```"
   ]
  },
  {
   "cell_type": "markdown",
   "metadata": {
    "slideshow": {
     "slide_type": "slide"
    }
   },
   "source": [
    "### Install first version of Example package in your julia installation\n",
    "```\n",
    "(v1.1) pkg> add https://github.com/pnavaro/LyonCalcul.jl.git\n",
    "  Updating registry at `~/.julia/registries/General`\n",
    "  Updating git-repo `https://github.com/JuliaRegistries/General.git`\n",
    "   Cloning git-repo `https://github.com/pnavaro/LyonCalcul.jl.git`\n",
    "  Updating git-repo `https://github.com/pnavaro/LyonCalcul.jl.git`\n",
    " Resolving package versions...\n",
    "  Updating `~/.julia/environments/v1.1/Project.toml`\n",
    "  [417a5b38] ~ LyonCalcul v0.1.0 [`~/JuliaProjects/LyonCalcul`] ⇒ v0.1.0 #master (https://github.com/pnavaro/LyonCalcul.jl.git)\n",
    "  Updating `~/.julia/environments/v1.1/Manifest.toml`\n",
    "  [417a5b38] ~ LyonCalcul v0.1.0 [`~/JuliaProjects/LyonCalcul`] ⇒ v0.1.0 #master (https://github.com/pnavaro/LyonCalcul.jl.git`\n",
    "```"
   ]
  },
  {
   "cell_type": "markdown",
   "metadata": {
    "slideshow": {
     "slide_type": "slide"
    }
   },
   "source": [
    "### Test it\n",
    "\n",
    "```\n",
    "(v1.1) pkg> test LyonCalcul\n",
    "   Testing LyonCalcul\n",
    "    \n",
    "Test Summary:                 | Pass  Total\n",
    "Test advection sinus function |    1      1\n",
    "   Testing LyonCalcul tests passed\n",
    "```"
   ]
  },
  {
   "cell_type": "markdown",
   "metadata": {
    "slideshow": {
     "slide_type": "slide"
    }
   },
   "source": [
    "# Push the package on github\n",
    "\n",
    "```bash\n",
    "cd LyonCalcul\n",
    "echo \"# LyonCalcul.jl\" >> README.md\n",
    "git init\n",
    "git add README.md\n",
    "git commit -m \"first commit\"\n",
    "git remote add origin git@github.com:pnavaro/LyonCalcul.jl.git\n",
    "git push -u origin master\n",
    "```"
   ]
  },
  {
   "cell_type": "markdown",
   "metadata": {
    "slideshow": {
     "slide_type": "slide"
    }
   },
   "source": [
    "# On Github choose your license\n",
    "\n",
    "Above the file list, click Create new file.\n",
    "\n",
    "In the file name field, type LICENSE (with all caps).\n",
    "\n",
    "- Choose a license template button.\n",
    "- Click Choose a license template.\n",
    "- Add a license to your project.\n",
    "- Don't create pull request choose \"master\" branch."
   ]
  },
  {
   "cell_type": "markdown",
   "metadata": {
    "slideshow": {
     "slide_type": "slide"
    }
   },
   "source": [
    "# On your computer\n",
    "\n",
    "```bash\n",
    "git pull origin master\n",
    "```"
   ]
  },
  {
   "cell_type": "markdown",
   "metadata": {
    "slideshow": {
     "slide_type": "slide"
    }
   },
   "source": [
    "## Travis\n",
    "\n",
    "Add your repository by going to https://travis-ci.org\n",
    "\n",
    "- Profile -> Settings -> Enable your repository\n",
    "\n",
    "\n",
    "## Codecov\n",
    "\n",
    "Add your repository by going to https://codecov.io/gh"
   ]
  },
  {
   "cell_type": "markdown",
   "metadata": {
    "slideshow": {
     "slide_type": "slide"
    }
   },
   "source": [
    "```yaml\n",
    "language: julia\n",
    "\n",
    "os:\n",
    "  - linux\n",
    "  - osx\n",
    "\n",
    "julia:\n",
    "  - 1.0\n",
    "  - nightly\n",
    "\n",
    "notifications:\n",
    "  email: true\n",
    "\n",
    "after_success:\n",
    "    - julia -e 'using Pkg; cd(Pkg.dir(\"LyonCalcul\")); Pkg.add(\"Coverage\"); using Coverage; Codecov.submit(process_folder())'\n",
    "\n",
    "jobs:\n",
    "  include:\n",
    "    - stage: \"Documentation\"\n",
    "      julia: 1.0\n",
    "      os: linux\n",
    "      script:\n",
    "        - julia --project=docs/ -e 'using Pkg; Pkg.develop(PackageSpec(path=pwd())); Pkg.instantiate()'\n",
    "        - julia --project=docs/ docs/make.jl\n",
    "      name: \"HTML\"\n",
    "      after_success: skip\n",
    "```"
   ]
  },
  {
   "cell_type": "markdown",
   "metadata": {
    "slideshow": {
     "slide_type": "slide"
    }
   },
   "source": [
    "## Hosting your documentation on Github pages\n",
    "\n",
    "Launch julia in your package directory.\n",
    "```\n",
    "pkg> add DocumenterTools\n",
    "pkg> activate .\n",
    "```\n",
    "```julia-repl\n",
    "julia> using DocumenterTools\n",
    "julia> using LyonCalcul\n",
    "julia> Travis.genkeys(LyonCalcul)\n",
    "```\n",
    "\n",
    "Follow the instructions that are printed out\n",
    "\n",
    "- Add the public ssh key to your settings page for the GitHub repository. \n",
    "- Don't forget to check **`Allow write access`** to allow Documenter to commit the\n",
    "    generated documentation to the repo.\n",
    "- Next add the long private key named DOCUMENTER_KEY to the Travis settings page using the provided link. \n",
    "- Make sure that the \"Display value in build log\" option is **OFF**."
   ]
  },
  {
   "cell_type": "markdown",
   "metadata": {
    "slideshow": {
     "slide_type": "slide"
    }
   },
   "source": [
    "## Update documentation with Travis\n",
    "\n",
    "To tell Travis that we want a new build stage we can add the following to the `.travis.yml` file:\n",
    "\n",
    "```yaml\n",
    "jobs:\n",
    "  include:\n",
    "    - stage: \"Documentation\"\n",
    "      julia: 1.0\n",
    "      os: linux\n",
    "      script:\n",
    "        - julia --project=docs/ -e 'using Pkg; Pkg.develop(PackageSpec(path=pwd()));\n",
    "                                               Pkg.instantiate()'\n",
    "        - julia --project=docs/ docs/make.jl\n",
    "      after_success: skip\n",
    "```"
   ]
  },
  {
   "cell_type": "markdown",
   "metadata": {
    "slideshow": {
     "slide_type": "slide"
    }
   },
   "source": [
    "# Enable GitHub Pages \n",
    "\n",
    "- On GitHub, navigate to your GitHub Pages site's repository.\n",
    "- Under your repository name, click Settings.\n",
    "- Use the Select source drop-down menu to select master or gh-pages as your GitHub Pages publishing source.\n",
    "- Click Save.\n",
    "\n",
    "By default Documenter will create a link called `dev` that points to the latest version\n",
    "\n",
    "```\n",
    "https://pnavaro.github.io/LyonCalcul.jl/dev\n",
    "```"
   ]
  },
  {
   "cell_type": "markdown",
   "metadata": {
    "slideshow": {
     "slide_type": "slide"
    }
   },
   "source": [
    "## Badges\n",
    "\n",
    "It is common practice to make use of \"badges\" for Travis build status, code coverage and documentation. Adding the following to your package `README.md` should be all\n",
    "that is necessary:\n",
    "\n",
    "- Codecov badge : https://codecov.io/gh/pnavaro/LyonCalcul.jl/settings/badge\n",
    "- Travis badge : https://travis-ci.org/ click on the the badge corresponding to your repository.\n",
    "\n",
    "```markdown\n",
    "[![Build Status](https://travis-ci.org/pnavaro/LyonCalcul.jl.svg?branch=master)](https://travis-ci.org/pnavaro/LyonCalcul.jl)\n",
    "[![codecov](https://codecov.io/gh/pnavaro/LyonCalcul.jl/branch/master/graph/badge.svg)](https://codecov.io/gh/pnavaro/LyonCalcul.jl)\n",
    "[![](https://img.shields.io/badge/docs-stable-blue.svg)](https://pnavaro.github.io/LyonCalcul.jl/stable)\n",
    "[![](https://img.shields.io/badge/docs-dev-blue.svg)](https://pnavaro.github.io/LyonCalcul.jl/dev)\n",
    "```"
   ]
  },
  {
   "cell_type": "markdown",
   "metadata": {
    "slideshow": {
     "slide_type": "slide"
    }
   },
   "source": [
    "# Register your package\n",
    "\n",
    "- Set up [AttoBot](https://github.com/integration/attobot) on your repository.\n",
    "- You need to tag your verson with git (for example v0.1.0)\n",
    "- Use [Github releases](https://help.github.com/articles/creating-releases/).\n",
    "- Wait a couple of days.\n",
    "\n",
    "*I did not do it for LyonCalcul*"
   ]
  },
  {
   "cell_type": "markdown",
   "metadata": {
    "slideshow": {
     "slide_type": "slide"
    }
   },
   "source": [
    "# Items not covered\n",
    "\n",
    "- Binary package [PackageCompiler.jl](https://github.com/JuliaLang/PackageCompiler.jl)\n",
    "- Mixed language [BinDeps.jl](https://github.com/JuliaPackaging/BinDeps.jl)\n",
    "- [Julia Observer](https://juliaobserver.com)\n",
    "- Create a pdf with Documenter\n",
    "- [Literate.jl](https://fredrikekre.github.io/Literate.jl) : create markdown file and/or jupyter notebook from a julia program. Easy way to create your examples and tutorials.\n",
    "- [WeaveAwayNotebooks.jl](https://github.com/oxinabox/WeaveAwayNotebooks) : convert Jupyter Notebooks to Literate.jl files\n",
    "- [Weave.jl](https://github.com/mpastell/Weave.jl) : Scientific reports/literate programming for Julia"
   ]
  },
  {
   "cell_type": "markdown",
   "metadata": {
    "slideshow": {
     "slide_type": "slide"
    }
   },
   "source": [
    "# Bonus\n",
    "\n",
    "To set your documentation logo, just add a image file named logo.png in docs/src/assets directory.\n",
    "\n",
    "Its size must be 100 x 100 pixels.\n",
    "\n",
    "You can modify the julia logo images available on [JuliaGraphics](https://github.com/JuliaGraphics/julia-logo-graphics)\n"
   ]
  },
  {
   "cell_type": "markdown",
   "metadata": {
    "slideshow": {
     "slide_type": "slide"
    }
   },
   "source": [
    "# Links\n",
    "\n",
    "- [Simplifying working with Julia packages and dependencies](https://github.com/JuliaPackaging)\n",
    "- [Creating a new package in Julia](https://attractivechaos.wordpress.com/2018/09/26/creating-a-new-package-in-julia/)\n",
    "- [Documenter](https://github.com/JuliaDocs/Documenter.jl)\n",
    "- [Finalizing Your Julia Package: Documentation, Testing, Coverage, and Publishing](http://www.stochasticlifestyle.com/finalizing-julia-package-documentation-testing-coverage-publishing/) (outdated)\n",
    "- [Revise.jl : Automatically update function definitions in a running Julia session](https://github.com/timholy/Revise.jl)"
   ]
  }
 ],
 "metadata": {
  "celltoolbar": "Diaporama",
  "kernelspec": {
   "display_name": "Julia 1.1.0",
   "language": "julia",
   "name": "julia-1.1"
  },
  "language_info": {
   "file_extension": ".jl",
   "mimetype": "application/julia",
   "name": "julia",
   "version": "1.1.0"
  }
 },
 "nbformat": 4,
 "nbformat_minor": 3
}
